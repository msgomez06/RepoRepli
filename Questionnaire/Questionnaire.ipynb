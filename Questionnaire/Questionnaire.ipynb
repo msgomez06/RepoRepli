{
 "cells": [
  {
   "cell_type": "markdown",
   "metadata": {},
   "source": [
    "# Reproducibility Questionnaire\n",
    "\n",
    "This questionnaire is designed to evaluate the reproducibility of our study using the provided framework. The plots in this questionnaire were made using matplotlib.\n",
    "\n",
    "Please answer the following questions to the best of your ability."
   ]
  },
  {
   "cell_type": "code",
   "execution_count": null,
   "metadata": {},
   "outputs": [],
   "source": [
    "import ipywidgets as widgets\n",
    "from IPython.display import display\n",
    "\n",
    "# Create text input field and button\n",
    "text = widgets.Textarea(\n",
    "    value='',\n",
    "    placeholder='Type something',\n",
    "    description='String:',\n",
    "    disable=False\n",
    ")\n",
    "button = widgets.Button(description=\"Submit\")\n",
    "\n",
    "# Display\n",
    "display(text, button)\n",
    "\n",
    "def on_button_clicked(b):\n",
    "    # When button is clicked, print the text\n",
    "    print(\"Text submitted:\", text.value)\n",
    "\n",
    "button.on_click(on_button_clicked)"
   ]
  }
 ],
 "metadata": {
  "language_info": {
   "name": "python"
  }
 },
 "nbformat": 4,
 "nbformat_minor": 2
}
