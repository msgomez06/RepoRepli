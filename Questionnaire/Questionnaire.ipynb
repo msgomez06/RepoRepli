{
 "cells": [
  {
   "cell_type": "markdown",
   "metadata": {},
   "source": [
    "# Reproducibility Questionnaire\n",
    "\n",
    "This questionnaire is designed to evaluate the reproducibility of our study using the provided framework. The plots in this questionnaire were made using matplotlib.\n",
    "\n",
    "Please answer the following questions to the best of your ability.\n",
    "\n",
    "<font color='red'><big> Dont understand how to select an answer? </big> </font>  Please take a look at the [readme file at this link](https://github.com/msgomez06/RepoRepli/tree/main#Instructions)."
   ]
  },
  {
   "cell_type": "code",
   "execution_count": 31,
   "metadata": {},
   "outputs": [],
   "source": [
    "#@title Required Imports and Verifications\n",
    "import tkinter as tk\n",
    "from tkinter import ttk\n",
    "from IPython.display import display\n",
    "import pandas as pd"
   ]
  },
  {
   "cell_type": "code",
   "execution_count": 37,
   "metadata": {},
   "outputs": [],
   "source": [
    "questionnaire_path = 'Questionnaire_Questions_Master.xlsx'\n",
    "\n",
    "# Load Spreadsheet data\n",
    "df_fit = pd.read_excel(questionnaire_path, sheet_name='Fitting')\n",
    "df_inf = pd.read_excel(questionnaire_path, sheet_name='Inference')\n"
   ]
  },
  {
   "cell_type": "code",
   "execution_count": 1,
   "metadata": {},
   "outputs": [],
   "source": [
    "def create_questionnaire(df):\n",
    "\n",
    "    # Create a tkinter window\n",
    "    window = tk.Tk()\n",
    "    window.title(\"Questionnaire\")\n",
    "\n",
    "    # Create a frame to hold the questions and answers\n",
    "    frame = ttk.Frame(window, padding=\"10\")\n",
    "    frame.grid(column=0, row=0, sticky=(tk.W, tk.E, tk.N, tk.S))\n",
    "\n",
    "    # Add a label for the question\n",
    "    question_label = ttk.Label(frame, text=df['Question'][0], wraplength=500, justify=\"left\")\n",
    "    question_label.grid(column=0, row=0, columnspan=2, pady=10)\n",
    "\n",
    "    # Add radio buttons for each answer\n",
    "    answer_options = ['Fully_Equivalent', 'Approximately_Equivalent', 'Somewhat_Equivalent', 'Not_Equivalent_or_Applicable']\n",
    "    selected_answer = tk.StringVar()\n",
    "    radio_buttons = []\n",
    "\n",
    "    for i, option in enumerate(answer_options):\n",
    "        radio_button = ttk.Radiobutton(frame, text=option, variable=selected_answer, value=option)\n",
    "        radio_button.grid(column=0, row=i + 1, sticky=tk.W)\n",
    "        radio_buttons.append(radio_button)\n",
    "\n",
    "    # Function to update the question and answers\n",
    "    def update_question(index):\n",
    "        question_label.config(text=df['Question'][index])\n",
    "        for i, option in enumerate(answer_options):\n",
    "            radio_buttons[i].config(text=df[option][index])\n",
    "\n",
    "\n",
    "    # Function to handle the \"Next\" button click\n",
    "    def next_question():\n",
    "        nonlocal current_question_index\n",
    "        current_question_index += 1\n",
    "\n",
    "        if current_question_index < len(df):\n",
    "            update_question(current_question_index)\n",
    "        else:\n",
    "            window.destroy()\n",
    "\n",
    "    # Add a \"Next\" button\n",
    "    next_button = ttk.Button(frame, text=\"Next\", command=next_question)\n",
    "    next_button.grid(column=1, row=len(answer_options) + 1, pady=10)\n",
    "\n",
    "    # Initialize the question and answers\n",
    "    current_question_index = 0\n",
    "    radio_buttons = []\n",
    "\n",
    "    # Update the initial question and answers\n",
    "    update_question(current_question_index)\n",
    "\n",
    "    # Start the tkinter main loop\n",
    "    window.mainloop()"
   ]
  },
  {
   "cell_type": "code",
   "execution_count": 39,
   "metadata": {},
   "outputs": [
    {
     "ename": "IndexError",
     "evalue": "list index out of range",
     "output_type": "error",
     "traceback": [
      "\u001b[1;31m---------------------------------------------------------------------------\u001b[0m",
      "\u001b[1;31mIndexError\u001b[0m                                Traceback (most recent call last)",
      "\u001b[1;32mc:\\Users\\mgomezd1\\repos\\RepoRepli\\Questionnaire\\Questionnaire.ipynb Cell 5\u001b[0m line \u001b[0;36m2\n\u001b[0;32m      <a href='vscode-notebook-cell:/c%3A/Users/mgomezd1/repos/RepoRepli/Questionnaire/Questionnaire.ipynb#W4sZmlsZQ%3D%3D?line=0'>1</a>\u001b[0m \u001b[39m# Example usage\u001b[39;00m\n\u001b[1;32m----> <a href='vscode-notebook-cell:/c%3A/Users/mgomezd1/repos/RepoRepli/Questionnaire/Questionnaire.ipynb#W4sZmlsZQ%3D%3D?line=1'>2</a>\u001b[0m create_questionnaire(df_fit)\n",
      "\u001b[1;32mc:\\Users\\mgomezd1\\repos\\RepoRepli\\Questionnaire\\Questionnaire.ipynb Cell 5\u001b[0m line \u001b[0;36m4\n\u001b[0;32m     <a href='vscode-notebook-cell:/c%3A/Users/mgomezd1/repos/RepoRepli/Questionnaire/Questionnaire.ipynb#W4sZmlsZQ%3D%3D?line=43'>44</a>\u001b[0m radio_buttons \u001b[39m=\u001b[39m []\n\u001b[0;32m     <a href='vscode-notebook-cell:/c%3A/Users/mgomezd1/repos/RepoRepli/Questionnaire/Questionnaire.ipynb#W4sZmlsZQ%3D%3D?line=45'>46</a>\u001b[0m \u001b[39m# Update the initial question and answers\u001b[39;00m\n\u001b[1;32m---> <a href='vscode-notebook-cell:/c%3A/Users/mgomezd1/repos/RepoRepli/Questionnaire/Questionnaire.ipynb#W4sZmlsZQ%3D%3D?line=46'>47</a>\u001b[0m update_question(current_question_index)\n\u001b[0;32m     <a href='vscode-notebook-cell:/c%3A/Users/mgomezd1/repos/RepoRepli/Questionnaire/Questionnaire.ipynb#W4sZmlsZQ%3D%3D?line=48'>49</a>\u001b[0m \u001b[39m# Start the tkinter main loop\u001b[39;00m\n\u001b[0;32m     <a href='vscode-notebook-cell:/c%3A/Users/mgomezd1/repos/RepoRepli/Questionnaire/Questionnaire.ipynb#W4sZmlsZQ%3D%3D?line=49'>50</a>\u001b[0m window\u001b[39m.\u001b[39mmainloop()\n",
      "\u001b[1;32mc:\\Users\\mgomezd1\\repos\\RepoRepli\\Questionnaire\\Questionnaire.ipynb Cell 5\u001b[0m line \u001b[0;36m2\n\u001b[0;32m     <a href='vscode-notebook-cell:/c%3A/Users/mgomezd1/repos/RepoRepli/Questionnaire/Questionnaire.ipynb#W4sZmlsZQ%3D%3D?line=23'>24</a>\u001b[0m question_label\u001b[39m.\u001b[39mconfig(text\u001b[39m=\u001b[39mdf[\u001b[39m'\u001b[39m\u001b[39mQuestion\u001b[39m\u001b[39m'\u001b[39m][index])\n\u001b[0;32m     <a href='vscode-notebook-cell:/c%3A/Users/mgomezd1/repos/RepoRepli/Questionnaire/Questionnaire.ipynb#W4sZmlsZQ%3D%3D?line=24'>25</a>\u001b[0m \u001b[39mfor\u001b[39;00m i, option \u001b[39min\u001b[39;00m \u001b[39menumerate\u001b[39m(answer_options):\n\u001b[1;32m---> <a href='vscode-notebook-cell:/c%3A/Users/mgomezd1/repos/RepoRepli/Questionnaire/Questionnaire.ipynb#W4sZmlsZQ%3D%3D?line=25'>26</a>\u001b[0m     radio_buttons[i]\u001b[39m.\u001b[39mconfig(text\u001b[39m=\u001b[39mdf[option][index])\n",
      "\u001b[1;31mIndexError\u001b[0m: list index out of range"
     ]
    }
   ],
   "source": [
    "# Example usage\n",
    "create_questionnaire(df_fit)"
   ]
  },
  {
   "cell_type": "code",
   "execution_count": 7,
   "metadata": {},
   "outputs": [
    {
     "data": {
      "application/vnd.jupyter.widget-view+json": {
       "model_id": "7f7ab3e8606146a3bbe4632741cea041",
       "version_major": 2,
       "version_minor": 0
      },
      "text/plain": [
       "Box(children=(Textarea(value='', description='String:', placeholder='Type something'), Button(description='Sub…"
      ]
     },
     "metadata": {},
     "output_type": "display_data"
    },
    {
     "data": {
      "application/vnd.jupyter.widget-view+json": {
       "model_id": "487a95ac75bd431a8e229e918f386e31",
       "version_major": 2,
       "version_minor": 0
      },
      "text/plain": [
       "Box(children=(RadioButtons(description='Choose one:', options=('Option 1', 'Option 2', 'Option 3'), value='Opt…"
      ]
     },
     "metadata": {},
     "output_type": "display_data"
    }
   ],
   "source": [
    "# Create text input field and button\n",
    "text = widgets.Textarea(\n",
    "    value='',\n",
    "    placeholder='Type something',\n",
    "    description='String:',\n",
    "    disable=False\n",
    ")\n",
    "button1 = widgets.Button(description=\"Submit\")\n",
    "\n",
    "# Create radio buttons for multiple choice question\n",
    "radio = widgets.RadioButtons(\n",
    "    options=['Option 1', 'Option 2', 'Option 3'],\n",
    "    description='Choose one:',\n",
    "    disable=False\n",
    ")\n",
    "button2 = widgets.Button(description=\"Submit\")\n",
    "\n",
    "# Create a box layout\n",
    "box_layout = widgets.Layout(display='flex',\n",
    "                            flex_flow='column',\n",
    "                            align_items='center',\n",
    "                            width='50%')\n",
    "\n",
    "# Create boxes that contain the widgets\n",
    "box1 = widgets.Box(children=[text, button1], layout=box_layout)\n",
    "box2 = widgets.Box(children=[radio, button2], layout=box_layout)\n",
    "\n",
    "# Display\n",
    "display(box1, box2)\n",
    "\n",
    "def on_button1_clicked(b):\n",
    "    # When button is clicked, print the text\n",
    "    print(\"Text submitted:\", text.value)\n",
    "\n",
    "button1.on_click(on_button1_clicked)\n",
    "\n",
    "def on_button2_clicked(b):\n",
    "    # When button is clicked, print the selected option\n",
    "    print(\"Selected option:\", radio.value)\n",
    "\n",
    "button2.on_click(on_button2_clicked)"
   ]
  },
  {
   "cell_type": "code",
   "execution_count": null,
   "metadata": {},
   "outputs": [],
   "source": []
  }
 ],
 "metadata": {
  "kernelspec": {
   "display_name": "questionnaire",
   "language": "python",
   "name": "python3"
  },
  "language_info": {
   "codemirror_mode": {
    "name": "ipython",
    "version": 3
   },
   "file_extension": ".py",
   "mimetype": "text/x-python",
   "name": "python",
   "nbconvert_exporter": "python",
   "pygments_lexer": "ipython3",
   "version": "3.9.18"
  }
 },
 "nbformat": 4,
 "nbformat_minor": 2
}
