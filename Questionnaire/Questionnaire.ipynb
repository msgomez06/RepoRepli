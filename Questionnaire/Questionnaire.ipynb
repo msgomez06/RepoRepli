{
 "cells": [
  {
   "cell_type": "markdown",
   "metadata": {},
   "source": [
    "# Reproducibility Questionnaire\n",
    "\n",
    "This questionnaire is designed to evaluate the reproducibility of our study using the provided framework. The plots in this questionnaire were made using matplotlib.\n",
    "\n",
    "Please answer the following questions to the best of your ability.\n",
    "\n",
    "<font color='red'><big> Dont understand how to select an answer? </big> </font>  Please take a look at the [readme file at this link](https://github.com/msgomez06/RepoRepli/tree/main#Instructions)."
   ]
  },
  {
   "cell_type": "code",
   "execution_count": 1,
   "metadata": {},
   "outputs": [],
   "source": [
    "#@title Required Imports and Verifications\n",
    "import tkinter as tk\n",
    "from tkinter import ttk\n",
    "from IPython.display import display\n",
    "import pandas as pd"
   ]
  },
  {
   "cell_type": "code",
   "execution_count": 9,
   "metadata": {},
   "outputs": [
    {
     "name": "stdout",
     "output_type": "stream",
     "text": [
      "/home/mgomezd1/repos/RepoRepli/Questionnaire\n"
     ]
    }
   ],
   "source": [
    "!pwd\n",
    "questionnaire_path = '/home/mgomezd1/repos/RepoRepli/Questionnaire/Questionnaire_Questions_master.xlsx'\n",
    "\n",
    "# Load Spreadsheet data\n",
    "df_fit = pd.read_excel(questionnaire_path, sheet_name='Fitting')\n",
    "df_inf = pd.read_excel(questionnaire_path, sheet_name='Inference')\n"
   ]
  },
  {
   "cell_type": "code",
   "execution_count": 10,
   "metadata": {},
   "outputs": [],
   "source": [
    "def create_questionnaire(df):\n",
    "    # Create a tkinter window\n",
    "    window = tk.Tk()\n",
    "    window.title(\"Questionnaire\")\n",
    "\n",
    "    # Create a frame to hold the questions and answers\n",
    "    frame = ttk.Frame(window, padding=\"10\")\n",
    "    frame.grid(column=0, row=0, sticky=(tk.W, tk.E, tk.N, tk.S))\n",
    "\n",
    "    # Add a label for the question\n",
    "    question_label = ttk.Label(\n",
    "        frame, text=df[\"Question\"][0], wraplength=500, justify=\"left\"\n",
    "    )\n",
    "    question_label.grid(column=0, row=0, columnspan=2, pady=10)\n",
    "\n",
    "    # Add radio buttons for each answer\n",
    "    answer_options = [\n",
    "        \"Fully_Equivalent\",\n",
    "        \"Approximately_Equivalent\",\n",
    "        \"Somewhat_Equivalent\",\n",
    "        \"Not_Equivalent_or_Applicable\",\n",
    "    ]\n",
    "    selected_answer = tk.StringVar()\n",
    "    radio_buttons = []\n",
    "\n",
    "    for i, option in enumerate(answer_options):\n",
    "        radio_button = ttk.Radiobutton(\n",
    "            frame, text=option, variable=selected_answer, value=option\n",
    "        )\n",
    "        radio_button.grid(column=0, row=i + 1, sticky=tk.W)\n",
    "        radio_buttons.append(radio_button)\n",
    "\n",
    "    # Function to update the question and answers\n",
    "    def update_question(index):\n",
    "        print(index)\n",
    "        question_label.config(text=df[\"Question\"][index])\n",
    "        for i, option in enumerate(answer_options):\n",
    "            print(df[option][index])\n",
    "            print(len(radio_buttons))\n",
    "            radio_buttons[i].config(text=df[option][index])\n",
    "\n",
    "    # Function to handle the \"Next\" button click\n",
    "    def next_question():\n",
    "        nonlocal current_question_index\n",
    "        current_question_index += 1\n",
    "\n",
    "        if current_question_index < len(df):\n",
    "            update_question(current_question_index)\n",
    "        else:\n",
    "            window.destroy()\n",
    "\n",
    "    # Add a \"Next\" button\n",
    "    next_button = ttk.Button(frame, text=\"Next\", command=next_question)\n",
    "    next_button.grid(column=1, row=len(answer_options) + 1, pady=10)\n",
    "\n",
    "    # Initialize the question and answers\n",
    "    current_question_index = 0\n",
    "\n",
    "    # Update the initial question and answers\n",
    "    update_question(current_question_index)\n",
    "\n",
    "    # Start the tkinter main loop\n",
    "    window.mainloop()"
   ]
  },
  {
   "cell_type": "code",
   "execution_count": 11,
   "metadata": {},
   "outputs": [
    {
     "name": "stdout",
     "output_type": "stream",
     "text": [
      "0\n",
      "Yes. The method of preprocessing the data is the same and is\n",
      "carried out in a fully equivalent computational environment.\n",
      "4\n",
      "Almost. The method of preprocessing the data is different \n",
      "but should provide equivalent results - or the preprocessing \n",
      "computations are different but shouldn't materially affect the results.\n",
      "4\n",
      "Somewhat. The method for preprocessing the data includes more or fewer stepts, or the preprocessing environment is different in a way that may materially affect the results.\n",
      "4\n",
      "Not equivalent or applicable. The preprocessing is substantially different, or the preprocessing environment will certainly materially affect the results (e.g., using a float8 variables because of limitations)\n",
      "4\n",
      "1\n",
      "Yes. The fitting metric is the same and are calculation is carried out in a fully equivalent computational environment.\n",
      "4\n",
      "Almost. The fitting metric is computationally a bit different, but should provide equivalent results - or the computation of the metric isn't the same but shouldn't materially affect the results.\n",
      "4\n",
      "Somewhat. The computation of the fitting metric is different enough that it may materially affect the results. (e.g., it's computed over a differently sized set of samples)\n",
      "4\n",
      "Not equivalent or applicable. The fitting metric is substantially different, or the computational environment will certainly materially affect the results\n",
      "4\n",
      "2\n",
      "Yes. The computations for fitting the model are carried out in a fully equivalent way in a fully equivalent computational environment.\n",
      "4\n",
      "Almost. The computations for fitting the model are similar but may vary in their implementations, or the computation of the model is different in a way that doesn't materially affect the results.\n",
      "4\n",
      "Somewhat. The fitting computations are different enough that they may materially affect the results (e.g., the method for solving model parameters)\n",
      "4\n",
      "Not equivalent or applicable. The model computation is different in a way that will certainly materially affect the results (e.g., important hyper-parameters cannot have the same value as in the base study)\n",
      "4\n",
      "3\n",
      "Yes. The same algorithm is used within an equivalent computational environment.\n",
      "4\n",
      "Almost. The algorithm is designed to address the same task as in the base study in a similar fashion, nad the difference shouldn't materially affect the results.\n",
      "4\n",
      "Lorem Ipsum\n",
      "4\n",
      "Lorem Ipsum\n",
      "4\n"
     ]
    }
   ],
   "source": [
    "# Example usage\n",
    "create_questionnaire(df_fit)"
   ]
  },
  {
   "cell_type": "code",
   "execution_count": 7,
   "metadata": {},
   "outputs": [
    {
     "data": {
      "application/vnd.jupyter.widget-view+json": {
       "model_id": "7f7ab3e8606146a3bbe4632741cea041",
       "version_major": 2,
       "version_minor": 0
      },
      "text/plain": [
       "Box(children=(Textarea(value='', description='String:', placeholder='Type something'), Button(description='Sub…"
      ]
     },
     "metadata": {},
     "output_type": "display_data"
    },
    {
     "data": {
      "application/vnd.jupyter.widget-view+json": {
       "model_id": "487a95ac75bd431a8e229e918f386e31",
       "version_major": 2,
       "version_minor": 0
      },
      "text/plain": [
       "Box(children=(RadioButtons(description='Choose one:', options=('Option 1', 'Option 2', 'Option 3'), value='Opt…"
      ]
     },
     "metadata": {},
     "output_type": "display_data"
    }
   ],
   "source": [
    "# Create text input field and button\n",
    "text = widgets.Textarea(\n",
    "    value='',\n",
    "    placeholder='Type something',\n",
    "    description='String:',\n",
    "    disable=False\n",
    ")\n",
    "button1 = widgets.Button(description=\"Submit\")\n",
    "\n",
    "# Create radio buttons for multiple choice question\n",
    "radio = widgets.RadioButtons(\n",
    "    options=['Option 1', 'Option 2', 'Option 3'],\n",
    "    description='Choose one:',\n",
    "    disable=False\n",
    ")\n",
    "button2 = widgets.Button(description=\"Submit\")\n",
    "\n",
    "# Create a box layout\n",
    "box_layout = widgets.Layout(display='flex',\n",
    "                            flex_flow='column',\n",
    "                            align_items='center',\n",
    "                            width='50%')\n",
    "\n",
    "# Create boxes that contain the widgets\n",
    "box1 = widgets.Box(children=[text, button1], layout=box_layout)\n",
    "box2 = widgets.Box(children=[radio, button2], layout=box_layout)\n",
    "\n",
    "# Display\n",
    "display(box1, box2)\n",
    "\n",
    "def on_button1_clicked(b):\n",
    "    # When button is clicked, print the text\n",
    "    print(\"Text submitted:\", text.value)\n",
    "\n",
    "button1.on_click(on_button1_clicked)\n",
    "\n",
    "def on_button2_clicked(b):\n",
    "    # When button is clicked, print the selected option\n",
    "    print(\"Selected option:\", radio.value)\n",
    "\n",
    "button2.on_click(on_button2_clicked)"
   ]
  },
  {
   "cell_type": "code",
   "execution_count": null,
   "metadata": {},
   "outputs": [],
   "source": []
  }
 ],
 "metadata": {
  "kernelspec": {
   "display_name": "questionnaire",
   "language": "python",
   "name": "python3"
  },
  "language_info": {
   "codemirror_mode": {
    "name": "ipython",
    "version": 3
   },
   "file_extension": ".py",
   "mimetype": "text/x-python",
   "name": "python",
   "nbconvert_exporter": "python",
   "pygments_lexer": "ipython3",
   "version": "3.12.0"
  }
 },
 "nbformat": 4,
 "nbformat_minor": 2
}
