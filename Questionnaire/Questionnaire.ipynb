{
 "cells": [
  {
   "cell_type": "markdown",
   "metadata": {},
   "source": [
    "# Reproducibility Questionnaire\n",
    "\n",
    "This questionnaire is designed to evaluate the reproducibility of our study using the provided framework. The plots in this questionnaire were made using matplotlib.\n",
    "\n",
    "Please answer the following questions to the best of your ability.\n",
    "\n",
    "<font color='red'><big> Dont understand how to select an answer? </big> </font>  Please take a look at the [readme file at this link](https://github.com/msgomez06/RepoRepli/tree/main#Instructions)."
   ]
  },
  {
   "cell_type": "code",
   "execution_count": 12,
   "metadata": {},
   "outputs": [],
   "source": [
    "#@title Required Imports and Verifications\n",
    "import ipywidgets as widgets\n",
    "from IPython.display import display\n",
    "import pandas as pd\n",
    "\n",
    "# Check to see if pooch is installed\n",
    "try:\n",
    "    import pooch\n",
    "except:\n",
    "    !pip install pooch\n",
    "    import pooch\n"
   ]
  },
  {
   "cell_type": "code",
   "execution_count": 13,
   "metadata": {},
   "outputs": [],
   "source": [
    "questionnaire_url = 'https://github.com/msgomez06/RepoRepli/raw/main/Questionnaire/Questionnaire_Questions_master.xlsx'\n",
    "\n",
    "# Download the questionnaire using pooch\n",
    "questionnaire = pooch.retrieve(\n",
    "    url=questionnaire_url,\n",
    "    known_hash='6d623d07e1b2c31594166c7c2da3f586527bb1803ee621aa69757fa5e1be4164',\n",
    ")\n"
   ]
  },
  {
   "cell_type": "code",
   "execution_count": 14,
   "metadata": {},
   "outputs": [],
   "source": [
    "# Load Spreadsheet data\n",
    "df_fit = pd.read_excel(questionnaire, sheet_name='Fitting')\n",
    "df_inf = pd.read_excel(questionnaire, sheet_name='Inference')\n"
   ]
  },
  {
   "cell_type": "code",
   "execution_count": 19,
   "metadata": {},
   "outputs": [],
   "source": [
    "def create_question(question, paragraphs, options):\n",
    "    # Display question\n",
    "    question_widget = widgets.HTML(value=f\"<h3>{question}</h3>\")\n",
    "\n",
    "    # Display paragraphs with separators\n",
    "    paragraphs_widgets = []\n",
    "    for i, paragraph in enumerate(paragraphs):\n",
    "        # make the paragraph widget with a small margin\n",
    "        #paragraphs_widgets.append(widgets.HTML(value=f\"<p>{paragraph}</p>\"))\n",
    "        paragraph_widgets.append(widgets.HTML(value=f\"<p style='margin:10px'>{paragraph}</p>\"))\n",
    "        if i < len(paragraphs) - 1:\n",
    "            # Add a separator after each paragraph (except the last one)\n",
    "            separator = widgets.VBox([widgets.HTML(value='<div style=\"border-left:2px solid black;height:100%;\"></div>')],\n",
    "                                     layout=widgets.Layout(display='flex', flex_flow='row', align_items='stretch'))\n",
    "            paragraphs_widgets.append(separator)\n",
    "\n",
    "    # Combine paragraphs\n",
    "    content_widgets = widgets.HBox(paragraphs_widgets)\n",
    "\n",
    "    # Display radio buttons for options\n",
    "    options_widget = widgets.RadioButtons(options=options)\n",
    "\n",
    "    # Display everything vertically\n",
    "    questionnaire_widget = widgets.VBox([question_widget, content_widgets, options_widget])\n",
    "    \n",
    "    # Display the widget\n",
    "    display(questionnaire_widget)\n",
    "\n",
    "def create_questionnaire(df):\n",
    "    options = list(df_fit.columns)[3:]\n",
    "    for i, row in df.iterrows():\n",
    "        create_question(row['Question'], row[options], options)"
   ]
  },
  {
   "cell_type": "code",
   "execution_count": 20,
   "metadata": {},
   "outputs": [
    {
     "data": {
      "application/vnd.jupyter.widget-view+json": {
       "model_id": "c70ed987c7364465bef76d54a308959d",
       "version_major": 2,
       "version_minor": 0
      },
      "text/plain": [
       "VBox(children=(HTML(value='<h3>Are the data pre-processing computations \\n(e.g., normalization, imputation) eq…"
      ]
     },
     "metadata": {},
     "output_type": "display_data"
    },
    {
     "data": {
      "application/vnd.jupyter.widget-view+json": {
       "model_id": "f5e82f492af14f2e87f6ee5024af9bd0",
       "version_major": 2,
       "version_minor": 0
      },
      "text/plain": [
       "VBox(children=(HTML(value='<h3>Are the fitting metric computations (e.g., the loss function) equivalent?</h3>'…"
      ]
     },
     "metadata": {},
     "output_type": "display_data"
    },
    {
     "data": {
      "application/vnd.jupyter.widget-view+json": {
       "model_id": "dfff820ff59b46ed82a7b372e5969970",
       "version_major": 2,
       "version_minor": 0
      },
      "text/plain": [
       "VBox(children=(HTML(value='<h3>Are the model fitting computations (e.g., the implementation and its hyperparam…"
      ]
     },
     "metadata": {},
     "output_type": "display_data"
    },
    {
     "data": {
      "application/vnd.jupyter.widget-view+json": {
       "model_id": "fb957437f3284f2aa588e43a8658853f",
       "version_major": 2,
       "version_minor": 0
      },
      "text/plain": [
       "VBox(children=(HTML(value='<h3>Is the algorithm used in your study equivalent to that used in the base study?<…"
      ]
     },
     "metadata": {},
     "output_type": "display_data"
    },
    {
     "data": {
      "application/vnd.jupyter.widget-view+json": {
       "model_id": "38a0ff88db6443659511eb91ce81b8cb",
       "version_major": 2,
       "version_minor": 0
      },
      "text/plain": [
       "VBox(children=(HTML(value='<h3>Lorem Ipsum</h3>'), HBox(children=(VBox(children=(HTML(value='<div style=\"borde…"
      ]
     },
     "metadata": {},
     "output_type": "display_data"
    },
    {
     "data": {
      "application/vnd.jupyter.widget-view+json": {
       "model_id": "a3f8eb5f20634e3d82a49d3a10d4659d",
       "version_major": 2,
       "version_minor": 0
      },
      "text/plain": [
       "VBox(children=(HTML(value='<h3>Lorem Ipsum</h3>'), HBox(children=(VBox(children=(HTML(value='<div style=\"borde…"
      ]
     },
     "metadata": {},
     "output_type": "display_data"
    },
    {
     "data": {
      "application/vnd.jupyter.widget-view+json": {
       "model_id": "4b827373eeb843c685c117ed33059b20",
       "version_major": 2,
       "version_minor": 0
      },
      "text/plain": [
       "VBox(children=(HTML(value='<h3>Lorem Ipsum</h3>'), HBox(children=(VBox(children=(HTML(value='<div style=\"borde…"
      ]
     },
     "metadata": {},
     "output_type": "display_data"
    },
    {
     "data": {
      "application/vnd.jupyter.widget-view+json": {
       "model_id": "3f961962e5ec4d67ad60d47162413d85",
       "version_major": 2,
       "version_minor": 0
      },
      "text/plain": [
       "VBox(children=(HTML(value='<h3>Lorem Ipsum</h3>'), HBox(children=(VBox(children=(HTML(value='<div style=\"borde…"
      ]
     },
     "metadata": {},
     "output_type": "display_data"
    },
    {
     "data": {
      "application/vnd.jupyter.widget-view+json": {
       "model_id": "e5a77037fe9147f791e5f1903cbd953c",
       "version_major": 2,
       "version_minor": 0
      },
      "text/plain": [
       "VBox(children=(HTML(value='<h3>Lorem Ipsum</h3>'), HBox(children=(VBox(children=(HTML(value='<div style=\"borde…"
      ]
     },
     "metadata": {},
     "output_type": "display_data"
    },
    {
     "data": {
      "application/vnd.jupyter.widget-view+json": {
       "model_id": "931869827f694978aaccbd400573579e",
       "version_major": 2,
       "version_minor": 0
      },
      "text/plain": [
       "VBox(children=(HTML(value='<h3>Lorem Ipsum</h3>'), HBox(children=(VBox(children=(HTML(value='<div style=\"borde…"
      ]
     },
     "metadata": {},
     "output_type": "display_data"
    },
    {
     "data": {
      "application/vnd.jupyter.widget-view+json": {
       "model_id": "3222773c9f2b46c194595ef136ace97e",
       "version_major": 2,
       "version_minor": 0
      },
      "text/plain": [
       "VBox(children=(HTML(value='<h3>Lorem Ipsum</h3>'), HBox(children=(VBox(children=(HTML(value='<div style=\"borde…"
      ]
     },
     "metadata": {},
     "output_type": "display_data"
    },
    {
     "data": {
      "application/vnd.jupyter.widget-view+json": {
       "model_id": "a32536d361144d4ea29c7766c625c5e0",
       "version_major": 2,
       "version_minor": 0
      },
      "text/plain": [
       "VBox(children=(HTML(value='<h3>Lorem Ipsum</h3>'), HBox(children=(VBox(children=(HTML(value='<div style=\"borde…"
      ]
     },
     "metadata": {},
     "output_type": "display_data"
    },
    {
     "data": {
      "application/vnd.jupyter.widget-view+json": {
       "model_id": "7d15510d28b0411d9fc4732ad021f39b",
       "version_major": 2,
       "version_minor": 0
      },
      "text/plain": [
       "VBox(children=(HTML(value='<h3>Lorem Ipsum</h3>'), HBox(children=(VBox(children=(HTML(value='<div style=\"borde…"
      ]
     },
     "metadata": {},
     "output_type": "display_data"
    },
    {
     "data": {
      "application/vnd.jupyter.widget-view+json": {
       "model_id": "915ce53767ba4edab338b7050ff024cb",
       "version_major": 2,
       "version_minor": 0
      },
      "text/plain": [
       "VBox(children=(HTML(value='<h3>Lorem Ipsum</h3>'), HBox(children=(VBox(children=(HTML(value='<div style=\"borde…"
      ]
     },
     "metadata": {},
     "output_type": "display_data"
    },
    {
     "data": {
      "application/vnd.jupyter.widget-view+json": {
       "model_id": "9b3621bd2dc94328a480ff3c5353fe50",
       "version_major": 2,
       "version_minor": 0
      },
      "text/plain": [
       "VBox(children=(HTML(value='<h3>Lorem Ipsum</h3>'), HBox(children=(VBox(children=(HTML(value='<div style=\"borde…"
      ]
     },
     "metadata": {},
     "output_type": "display_data"
    },
    {
     "data": {
      "application/vnd.jupyter.widget-view+json": {
       "model_id": "0f33b52c1ec8401b863ea097bcc97e81",
       "version_major": 2,
       "version_minor": 0
      },
      "text/plain": [
       "VBox(children=(HTML(value='<h3>Lorem Ipsum</h3>'), HBox(children=(VBox(children=(HTML(value='<div style=\"borde…"
      ]
     },
     "metadata": {},
     "output_type": "display_data"
    },
    {
     "data": {
      "application/vnd.jupyter.widget-view+json": {
       "model_id": "259ffc9fd69a432e81adc27d6f3cfd7b",
       "version_major": 2,
       "version_minor": 0
      },
      "text/plain": [
       "VBox(children=(HTML(value='<h3>Lorem Ipsum</h3>'), HBox(children=(VBox(children=(HTML(value='<div style=\"borde…"
      ]
     },
     "metadata": {},
     "output_type": "display_data"
    },
    {
     "data": {
      "application/vnd.jupyter.widget-view+json": {
       "model_id": "d2bad5eb46584508bc702c9aea46e8cc",
       "version_major": 2,
       "version_minor": 0
      },
      "text/plain": [
       "VBox(children=(HTML(value='<h3>Lorem Ipsum</h3>'), HBox(children=(VBox(children=(HTML(value='<div style=\"borde…"
      ]
     },
     "metadata": {},
     "output_type": "display_data"
    },
    {
     "data": {
      "application/vnd.jupyter.widget-view+json": {
       "model_id": "aef2244333754cbdb57edacabf8b0024",
       "version_major": 2,
       "version_minor": 0
      },
      "text/plain": [
       "VBox(children=(HTML(value='<h3>Lorem Ipsum</h3>'), HBox(children=(VBox(children=(HTML(value='<div style=\"borde…"
      ]
     },
     "metadata": {},
     "output_type": "display_data"
    },
    {
     "data": {
      "application/vnd.jupyter.widget-view+json": {
       "model_id": "6bf2d5b729e44fac84cd2f86fff3d737",
       "version_major": 2,
       "version_minor": 0
      },
      "text/plain": [
       "VBox(children=(HTML(value='<h3>Lorem Ipsum</h3>'), HBox(children=(VBox(children=(HTML(value='<div style=\"borde…"
      ]
     },
     "metadata": {},
     "output_type": "display_data"
    },
    {
     "data": {
      "application/vnd.jupyter.widget-view+json": {
       "model_id": "b41c46a71c034d5fa7e787c5c6b2a148",
       "version_major": 2,
       "version_minor": 0
      },
      "text/plain": [
       "VBox(children=(HTML(value='<h3>Lorem Ipsum</h3>'), HBox(children=(VBox(children=(HTML(value='<div style=\"borde…"
      ]
     },
     "metadata": {},
     "output_type": "display_data"
    }
   ],
   "source": [
    "# Example usage\n",
    "create_questionnaire(df_fit)"
   ]
  },
  {
   "cell_type": "code",
   "execution_count": 7,
   "metadata": {},
   "outputs": [
    {
     "data": {
      "application/vnd.jupyter.widget-view+json": {
       "model_id": "7f7ab3e8606146a3bbe4632741cea041",
       "version_major": 2,
       "version_minor": 0
      },
      "text/plain": [
       "Box(children=(Textarea(value='', description='String:', placeholder='Type something'), Button(description='Sub…"
      ]
     },
     "metadata": {},
     "output_type": "display_data"
    },
    {
     "data": {
      "application/vnd.jupyter.widget-view+json": {
       "model_id": "487a95ac75bd431a8e229e918f386e31",
       "version_major": 2,
       "version_minor": 0
      },
      "text/plain": [
       "Box(children=(RadioButtons(description='Choose one:', options=('Option 1', 'Option 2', 'Option 3'), value='Opt…"
      ]
     },
     "metadata": {},
     "output_type": "display_data"
    }
   ],
   "source": [
    "# Create text input field and button\n",
    "text = widgets.Textarea(\n",
    "    value='',\n",
    "    placeholder='Type something',\n",
    "    description='String:',\n",
    "    disable=False\n",
    ")\n",
    "button1 = widgets.Button(description=\"Submit\")\n",
    "\n",
    "# Create radio buttons for multiple choice question\n",
    "radio = widgets.RadioButtons(\n",
    "    options=['Option 1', 'Option 2', 'Option 3'],\n",
    "    description='Choose one:',\n",
    "    disable=False\n",
    ")\n",
    "button2 = widgets.Button(description=\"Submit\")\n",
    "\n",
    "# Create a box layout\n",
    "box_layout = widgets.Layout(display='flex',\n",
    "                            flex_flow='column',\n",
    "                            align_items='center',\n",
    "                            width='50%')\n",
    "\n",
    "# Create boxes that contain the widgets\n",
    "box1 = widgets.Box(children=[text, button1], layout=box_layout)\n",
    "box2 = widgets.Box(children=[radio, button2], layout=box_layout)\n",
    "\n",
    "# Display\n",
    "display(box1, box2)\n",
    "\n",
    "def on_button1_clicked(b):\n",
    "    # When button is clicked, print the text\n",
    "    print(\"Text submitted:\", text.value)\n",
    "\n",
    "button1.on_click(on_button1_clicked)\n",
    "\n",
    "def on_button2_clicked(b):\n",
    "    # When button is clicked, print the selected option\n",
    "    print(\"Selected option:\", radio.value)\n",
    "\n",
    "button2.on_click(on_button2_clicked)"
   ]
  },
  {
   "cell_type": "code",
   "execution_count": null,
   "metadata": {},
   "outputs": [],
   "source": []
  }
 ],
 "metadata": {
  "kernelspec": {
   "display_name": "questionnaire",
   "language": "python",
   "name": "python3"
  },
  "language_info": {
   "codemirror_mode": {
    "name": "ipython",
    "version": 3
   },
   "file_extension": ".py",
   "mimetype": "text/x-python",
   "name": "python",
   "nbconvert_exporter": "python",
   "pygments_lexer": "ipython3",
   "version": "3.12.0"
  }
 },
 "nbformat": 4,
 "nbformat_minor": 2
}
