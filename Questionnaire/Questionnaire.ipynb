{
 "cells": [
  {
   "cell_type": "markdown",
   "metadata": {},
   "source": [
    "# Reproducibility Questionnaire\n",
    "\n",
    "This questionnaire is designed to evaluate the reproducibility of our study using the provided framework. The plots in this questionnaire were made using matplotlib.\n",
    "\n",
    "Please answer the following questions to the best of your ability.\n",
    "\n",
    "<font color='red'><big> Dont understand how to select an answer? </big> </font>  Please take a look at the [readme file at this link](https://github.com/msgomez06/RepoRepli/tree/main#Instructions)."
   ]
  },
  {
   "cell_type": "code",
   "execution_count": 4,
   "metadata": {},
   "outputs": [],
   "source": [
    "#@title Required Imports and Verifications\n",
    "import ipywidgets as widgets\n",
    "from IPython.display import display"
   ]
  },
  {
   "cell_type": "code",
   "execution_count": 7,
   "metadata": {},
   "outputs": [
    {
     "data": {
      "application/vnd.jupyter.widget-view+json": {
       "model_id": "9e84c57dabcc491ea5785f4be9487424",
       "version_major": 2,
       "version_minor": 0
      },
      "text/plain": [
       "Box(children=(Textarea(value='', description='String:', placeholder='Type something'), Button(description='Sub…"
      ]
     },
     "metadata": {},
     "output_type": "display_data"
    },
    {
     "data": {
      "application/vnd.jupyter.widget-view+json": {
       "model_id": "abe8145c41664046ac40bdba08ba4ed5",
       "version_major": 2,
       "version_minor": 0
      },
      "text/plain": [
       "Box(children=(RadioButtons(description='Choose one:', options=('Option 1', 'Option 2', 'Option 3'), value='Opt…"
      ]
     },
     "metadata": {},
     "output_type": "display_data"
    }
   ],
   "source": [
    "# Create text input field and button\n",
    "text = widgets.Textarea(\n",
    "    value='',\n",
    "    placeholder='Type something',\n",
    "    description='String:',\n",
    "    disable=False\n",
    ")\n",
    "button1 = widgets.Button(description=\"Submit\")\n",
    "\n",
    "# Create radio buttons for multiple choice question\n",
    "radio = widgets.RadioButtons(\n",
    "    options=['Option 1', 'Option 2', 'Option 3'],\n",
    "    description='Choose one:',\n",
    "    disable=False\n",
    ")\n",
    "button2 = widgets.Button(description=\"Submit\")\n",
    "\n",
    "# Create a box layout\n",
    "box_layout = widgets.Layout(display='flex',\n",
    "                            flex_flow='column',\n",
    "                            align_items='center',\n",
    "                            width='50%')\n",
    "\n",
    "# Create boxes that contain the widgets\n",
    "box1 = widgets.Box(children=[text, button1], layout=box_layout)\n",
    "box2 = widgets.Box(children=[radio, button2], layout=box_layout)\n",
    "\n",
    "# Display\n",
    "display(box1, box2)\n",
    "\n",
    "def on_button1_clicked(b):\n",
    "    # When button is clicked, print the text\n",
    "    print(\"Text submitted:\", text.value)\n",
    "\n",
    "button1.on_click(on_button1_clicked)\n",
    "\n",
    "def on_button2_clicked(b):\n",
    "    # When button is clicked, print the selected option\n",
    "    print(\"Selected option:\", radio.value)\n",
    "\n",
    "button2.on_click(on_button2_clicked)"
   ]
  },
  {
   "cell_type": "code",
   "execution_count": null,
   "metadata": {},
   "outputs": [],
   "source": []
  }
 ],
 "metadata": {
  "kernelspec": {
   "display_name": "questionnaire",
   "language": "python",
   "name": "python3"
  },
  "language_info": {
   "codemirror_mode": {
    "name": "ipython",
    "version": 3
   },
   "file_extension": ".py",
   "mimetype": "text/x-python",
   "name": "python",
   "nbconvert_exporter": "python",
   "pygments_lexer": "ipython3",
   "version": "3.9.18"
  }
 },
 "nbformat": 4,
 "nbformat_minor": 2
}
